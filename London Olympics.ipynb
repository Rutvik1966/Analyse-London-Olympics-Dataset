{
 "cells": [
  {
   "cell_type": "code",
   "execution_count": 183,
   "metadata": {},
   "outputs": [
    {
     "name": "stdout",
     "output_type": "stream",
     "text": [
      "   Unnamed: 0     Unnamed: 1    Unnamed: 2 Unnamed: 3   Unnamed: 4 Unnamed: 5  \\\n",
      "0         NaN        Country  Country Code       Year  Medal Tally        NaN   \n",
      "1         NaN            NaN           NaN        NaN         Gold     Silver   \n",
      "2         NaN  Great Britain           GBR       2012           29         17   \n",
      "3         NaN         China            CHN       2012           38         28   \n",
      "4         NaN         Russia           RUS       2012           24         25   \n",
      "5         NaN  United States            US       2012           46         28   \n",
      "6         NaN          Korea           KOR       2012           13          8   \n",
      "7         NaN          Japan           JPN       2012            7         14   \n",
      "8         NaN        Germany           GER       2012           11         11   \n",
      "\n",
      "  Unnamed: 6  \n",
      "0        NaN  \n",
      "1     Bronze  \n",
      "2         19  \n",
      "3         22  \n",
      "4         32  \n",
      "5         29  \n",
      "6          7  \n",
      "7         17  \n",
      "8         14  \n"
     ]
    }
   ],
   "source": [
    "import pandas as pd\n",
    "file=pd.read_excel('Olympic 2012 Medal Tally.xlsx')\n",
    "print(file)"
   ]
  },
  {
   "cell_type": "code",
   "execution_count": 156,
   "metadata": {},
   "outputs": [
    {
     "data": {
      "text/plain": [
       "array(['Great Britain', 'China ', 'Russia', 'United States', 'Korea',\n",
       "       'Japan', 'Germany'], dtype=object)"
      ]
     },
     "execution_count": 156,
     "metadata": {},
     "output_type": "execute_result"
    }
   ],
   "source": [
    "import numpy as np\n",
    "file_country=file.loc[:,\"Unnamed: 1\"][2:]\n",
    "file_country_array=np.array(file_country)\n",
    "file_country_array"
   ]
  },
  {
   "cell_type": "code",
   "execution_count": 174,
   "metadata": {},
   "outputs": [
    {
     "name": "stdout",
     "output_type": "stream",
     "text": [
      "[29 38 24 46 13 7 11]\n"
     ]
    }
   ],
   "source": [
    "file_country_gold=file.loc[:,\"Unnamed: 4\"][2:]\n",
    "file_country_gold_array=np.array(file_country_gold)\n",
    "print(file_country_gold_array)"
   ]
  },
  {
   "cell_type": "code",
   "execution_count": 159,
   "metadata": {},
   "outputs": [
    {
     "data": {
      "text/plain": [
       "array([17, 28, 25, 28, 8, 14, 11], dtype=object)"
      ]
     },
     "execution_count": 159,
     "metadata": {},
     "output_type": "execute_result"
    }
   ],
   "source": [
    "file_country_silver=file.loc[:,\"Unnamed: 5\"][2:]\n",
    "file_country_silver_array=np.array(file_country_silver)\n",
    "file_country_silver_array"
   ]
  },
  {
   "cell_type": "code",
   "execution_count": 160,
   "metadata": {},
   "outputs": [
    {
     "data": {
      "text/plain": [
       "array([19, 22, 32, 29, 7, 17, 14], dtype=object)"
      ]
     },
     "execution_count": 160,
     "metadata": {},
     "output_type": "execute_result"
    }
   ],
   "source": [
    "file_country_bronze=file.loc[:,\"Unnamed: 6\"][2:]\n",
    "file_country_bronze_array=np.array(file_country_bronze)\n",
    "file_country_bronze_array"
   ]
  },
  {
   "cell_type": "code",
   "execution_count": 168,
   "metadata": {},
   "outputs": [
    {
     "name": "stdout",
     "output_type": "stream",
     "text": [
      "United States\n"
     ]
    }
   ],
   "source": [
    "highest_goldmadel_index=file_country_gold_array.argmax()\n",
    "highest_goldmadel_country=file_country_array[highest_goldmadel_index]\n",
    "print(highest_goldmadel_country)"
   ]
  },
  {
   "cell_type": "code",
   "execution_count": 173,
   "metadata": {},
   "outputs": [
    {
     "name": "stdout",
     "output_type": "stream",
     "text": [
      "['Great Britain' 'China ' 'Russia' 'United States']\n"
     ]
    }
   ],
   "source": [
    "madel_won_greater_20=file_country_gold_array>20\n",
    "more20_goldmadel_country=file_country_array[madel_won_greater_20]\n",
    "print(more20_goldmadel_country)"
   ]
  },
  {
   "cell_type": "code",
   "execution_count": 177,
   "metadata": {},
   "outputs": [
    {
     "name": "stdout",
     "output_type": "stream",
     "text": [
      "Gold Madel[29 38 24 46 13 7 11]\n",
      "Silver Madel[17 28 25 28 8 14 11]\n",
      "Bronze Madel[19 22 32 29 7 17 14]\n"
     ]
    }
   ],
   "source": [
    "print(\"Gold Madel\"+str(file_country_gold_array))\n",
    "print(\"Silver Madel\"+str(file_country_silver_array))\n",
    "print(\"Bronze Madel\"+str(file_country_bronze_array))"
   ]
  },
  {
   "cell_type": "code",
   "execution_count": 180,
   "metadata": {},
   "outputs": [
    {
     "name": "stdout",
     "output_type": "stream",
     "text": [
      "Country Great Britain has won 29 gold madel\n",
      "Country China  has won 38 gold madel\n",
      "Country Russia has won 24 gold madel\n",
      "Country United States has won 46 gold madel\n",
      "Country Korea has won 13 gold madel\n",
      "Country Japan has won 7 gold madel\n",
      "Country Germany has won 11 gold madel\n"
     ]
    }
   ],
   "source": [
    "for i in range(len(file_country_array)):\n",
    "    print(\"Country \"+str(file_country_array[i])+\" has won \"+str(file_country_gold_array[i])+\" gold madel\")"
   ]
  },
  {
   "cell_type": "code",
   "execution_count": 182,
   "metadata": {},
   "outputs": [
    {
     "name": "stdout",
     "output_type": "stream",
     "text": [
      "Country Great Britain has won 65 total madel\n",
      "Country China  has won 88 total madel\n",
      "Country Russia has won 81 total madel\n",
      "Country United States has won 103 total madel\n",
      "Country Korea has won 28 total madel\n",
      "Country Japan has won 38 total madel\n",
      "Country Germany has won 36 total madel\n"
     ]
    }
   ],
   "source": [
    "for i in range(len(file_country_array)):\n",
    "    print(\"Country \"+str(file_country_array[i])+\" has won \"+str(file_country_gold_array[i]+file_country_silver_array[i]+file_country_bronze_array[i])+\" total madel\")"
   ]
  }
 ],
 "metadata": {
  "kernelspec": {
   "display_name": "Python 3",
   "language": "python",
   "name": "python3"
  },
  "language_info": {
   "codemirror_mode": {
    "name": "ipython",
    "version": 3
   },
   "file_extension": ".py",
   "mimetype": "text/x-python",
   "name": "python",
   "nbconvert_exporter": "python",
   "pygments_lexer": "ipython3",
   "version": "3.8.3"
  }
 },
 "nbformat": 4,
 "nbformat_minor": 4
}
